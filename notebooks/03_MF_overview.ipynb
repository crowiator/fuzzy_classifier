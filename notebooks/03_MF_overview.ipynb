{
 "cells": [
  {
   "cell_type": "code",
   "execution_count": 14,
   "metadata": {
    "collapsed": true,
    "ExecuteTime": {
     "end_time": "2025-06-08T08:34:11.063997Z",
     "start_time": "2025-06-08T08:34:11.058998Z"
    }
   },
   "outputs": [],
   "source": [
    "from pathlib import Path\n",
    "import numpy as np, pandas as pd\n",
    "import matplotlib.pyplot as plt\n",
    "from src.fuzzy.mf import auto_mf\n",
    "from src.feature_extraction.transformer import FeatureExtractor\n",
    "from src.preprocessing.load import load_record\n",
    "import seaborn as sns\n",
    "sns.set_style(\"whitegrid\")"
   ]
  },
  {
   "cell_type": "code",
   "execution_count": 18,
   "outputs": [],
   "source": [
    "from src.config import DATA_DIR, LEAD\n",
    "def build_small_matrix(rec_ids, lead=LEAD, base_dir=Path(DATA_DIR)):\n",
    "    rows = [(load_record(r, lead=lead, base_dir=base_dir).signal, 360)\n",
    "            for r in rec_ids]\n",
    "\n",
    "    fe = FeatureExtractor(return_array=False)\n",
    "    fe.fit(rows)                         # → feature_names_ sa naplní\n",
    "    X_df = fe.transform(rows)            # DataFrame (beats × features)\n",
    "    return X_df.to_numpy(float), fe.feature_names_"
   ],
   "metadata": {
    "collapsed": false,
    "ExecuteTime": {
     "end_time": "2025-06-08T08:36:42.154085Z",
     "start_time": "2025-06-08T08:36:42.149731Z"
    }
   }
  },
  {
   "cell_type": "code",
   "execution_count": 12,
   "outputs": [],
   "source": [
    "# Pomocná Gauss funkcia --------------------------------------------\n",
    "def _gauss(mu, sigma, x):\n",
    "    return np.exp(-0.5 * ((x - mu) / sigma) ** 2)\n"
   ],
   "metadata": {
    "collapsed": false,
    "ExecuteTime": {
     "end_time": "2025-06-08T08:34:07.204118Z",
     "start_time": "2025-06-08T08:34:07.197786Z"
    }
   }
  },
  {
   "cell_type": "code",
   "execution_count": 21,
   "outputs": [
    {
     "name": "stdout",
     "output_type": "stream",
     "text": [
      "som tu \n",
      "filter done\n",
      "detect kdasdjbashjdasd \n",
      "detect kdasdjasdasdasdasdasdabashjdasd \n"
     ]
    },
    {
     "ename": "KeyboardInterrupt",
     "evalue": "",
     "output_type": "error",
     "traceback": [
      "\u001B[31m---------------------------------------------------------------------------\u001B[39m",
      "\u001B[31mKeyboardInterrupt\u001B[39m                         Traceback (most recent call last)",
      "\u001B[36mCell\u001B[39m\u001B[36m \u001B[39m\u001B[32mIn[21]\u001B[39m\u001B[32m, line 5\u001B[39m\n\u001B[32m      1\u001B[39m \u001B[38;5;66;03m# ------------------------------------------------------------------\u001B[39;00m\n\u001B[32m      2\u001B[39m \u001B[38;5;66;03m# 1. Malý tréningný set + výpočet MF\u001B[39;00m\n\u001B[32m      3\u001B[39m \u001B[38;5;66;03m# ------------------------------------------------------------------\u001B[39;00m\n\u001B[32m      4\u001B[39m rec_ids = [\u001B[33m\"\u001B[39m\u001B[33m101\u001B[39m\u001B[33m\"\u001B[39m, \u001B[33m\"\u001B[39m\u001B[33m106\u001B[39m\u001B[33m\"\u001B[39m, \u001B[33m\"\u001B[39m\u001B[33m108\u001B[39m\u001B[33m\"\u001B[39m]          \u001B[38;5;66;03m# rýchle 3 záznamy DS-1\u001B[39;00m\n\u001B[32m----> \u001B[39m\u001B[32m5\u001B[39m X, feats = \u001B[43mbuild_small_matrix\u001B[49m\u001B[43m(\u001B[49m\u001B[43mrec_ids\u001B[49m\u001B[43m)\u001B[49m\n\u001B[32m      6\u001B[39m mf_dict = auto_mf(X, feats)\n\u001B[32m      8\u001B[39m \u001B[38;5;66;03m# Zoznam čŕt, ktoré chceme vizualizovať (ľubovoľne skráť/rozšír)\u001B[39;00m\n",
      "\u001B[36mCell\u001B[39m\u001B[36m \u001B[39m\u001B[32mIn[18]\u001B[39m\u001B[32m, line 7\u001B[39m, in \u001B[36mbuild_small_matrix\u001B[39m\u001B[34m(rec_ids, lead, base_dir)\u001B[39m\n\u001B[32m      3\u001B[39m rows = [(load_record(r, lead=lead, base_dir=base_dir).signal, \u001B[32m360\u001B[39m)\n\u001B[32m      4\u001B[39m         \u001B[38;5;28;01mfor\u001B[39;00m r \u001B[38;5;129;01min\u001B[39;00m rec_ids]\n\u001B[32m      6\u001B[39m fe = FeatureExtractor(return_array=\u001B[38;5;28;01mFalse\u001B[39;00m)\n\u001B[32m----> \u001B[39m\u001B[32m7\u001B[39m \u001B[43mfe\u001B[49m\u001B[43m.\u001B[49m\u001B[43mfit\u001B[49m\u001B[43m(\u001B[49m\u001B[43mrows\u001B[49m\u001B[43m)\u001B[49m                         \u001B[38;5;66;03m# → feature_names_ sa naplní\u001B[39;00m\n\u001B[32m      8\u001B[39m X_df = fe.transform(rows)            \u001B[38;5;66;03m# DataFrame (beats × features)\u001B[39;00m\n\u001B[32m      9\u001B[39m \u001B[38;5;28;01mreturn\u001B[39;00m X_df.to_numpy(\u001B[38;5;28mfloat\u001B[39m), fe.feature_names_\n",
      "\u001B[36mFile \u001B[39m\u001B[32m~/PycharmProjects/fuzzy_classifier/src/feature_extraction/transformer.py:43\u001B[39m, in \u001B[36mFeatureExtractor.fit\u001B[39m\u001B[34m(self, X, y)\u001B[39m\n\u001B[32m     41\u001B[39m \u001B[38;5;28;01mdef\u001B[39;00m\u001B[38;5;250m \u001B[39m\u001B[34mfit\u001B[39m(\u001B[38;5;28mself\u001B[39m, X: List[np.ndarray], y: Any = \u001B[38;5;28;01mNone\u001B[39;00m):     \u001B[38;5;66;03m# type: ignore[override]\u001B[39;00m\n\u001B[32m     42\u001B[39m     sig, fs = \u001B[38;5;28mself\u001B[39m._norm(X[\u001B[32m0\u001B[39m])\n\u001B[32m---> \u001B[39m\u001B[32m43\u001B[39m     td = \u001B[43mextract_beats\u001B[49m\u001B[43m(\u001B[49m\u001B[43msig\u001B[49m\u001B[43m,\u001B[49m\u001B[43m \u001B[49m\u001B[43mfs\u001B[49m\u001B[43m)\u001B[49m.iloc[\u001B[32m0\u001B[39m]\n\u001B[32m     44\u001B[39m     wl = extract_wavelet_features(sig, fs, levels=\u001B[38;5;28mself\u001B[39m.wavelet_levels)\n\u001B[32m     45\u001B[39m     \u001B[38;5;28mself\u001B[39m.feature_names_ = \u001B[38;5;28mlist\u001B[39m(td.index) + \u001B[38;5;28mlist\u001B[39m(wl.keys())\n",
      "\u001B[36mFile \u001B[39m\u001B[32m~/PycharmProjects/fuzzy_classifier/src/feature_extraction/time_domain.py:26\u001B[39m, in \u001B[36mextract_beats\u001B[39m\u001B[34m(raw_sig, fs, early_theta)\u001B[39m\n\u001B[32m     23\u001B[39m r_idx, _ = detect_rpeaks(clean, fs)\n\u001B[32m     25\u001B[39m \u001B[38;5;66;03m# 3) delineácia – získať P/QRS/T indexy\u001B[39;00m\n\u001B[32m---> \u001B[39m\u001B[32m26\u001B[39m _, waves = \u001B[43mnk\u001B[49m\u001B[43m.\u001B[49m\u001B[43mecg_delineate\u001B[49m\u001B[43m(\u001B[49m\u001B[43mclean\u001B[49m\u001B[43m,\u001B[49m\u001B[43m \u001B[49m\u001B[43mr_idx\u001B[49m\u001B[43m,\u001B[49m\u001B[43m \u001B[49m\u001B[43msampling_rate\u001B[49m\u001B[43m=\u001B[49m\u001B[43mfs\u001B[49m\u001B[43m,\u001B[49m\u001B[43m \u001B[49m\u001B[43mmethod\u001B[49m\u001B[43m=\u001B[49m\u001B[33;43m\"\u001B[39;49m\u001B[33;43mdwt\u001B[39;49m\u001B[33;43m\"\u001B[39;49m\u001B[43m)\u001B[49m\n\u001B[32m     28\u001B[39m \u001B[38;5;66;03m# numpy polia (NaN kde chýba)\u001B[39;00m\n\u001B[32m     29\u001B[39m r_on  = np.asarray(waves[\u001B[33m\"\u001B[39m\u001B[33mECG_R_Onsets\u001B[39m\u001B[33m\"\u001B[39m],  dtype=\u001B[38;5;28mfloat\u001B[39m)\n",
      "\u001B[36mFile \u001B[39m\u001B[32m~/PycharmProjects/fuzzy_classifier/venv/py/a/c/d/e/dd/lib/python3.11/site-packages/neurokit2/ecg/ecg_delineate.py:180\u001B[39m, in \u001B[36mecg_delineate\u001B[39m\u001B[34m(ecg_cleaned, rpeaks, sampling_rate, method, show, show_type, check, **kwargs)\u001B[39m\n\u001B[32m    176\u001B[39m     waves = _ecg_delineator_cwt(\n\u001B[32m    177\u001B[39m         ecg_cleaned, rpeaks=rpeaks, sampling_rate=sampling_rate\n\u001B[32m    178\u001B[39m     )\n\u001B[32m    179\u001B[39m \u001B[38;5;28;01melif\u001B[39;00m method \u001B[38;5;129;01min\u001B[39;00m [\u001B[33m\"\u001B[39m\u001B[33mdwt\u001B[39m\u001B[33m\"\u001B[39m, \u001B[33m\"\u001B[39m\u001B[33mdiscrete wavelet transform\u001B[39m\u001B[33m\"\u001B[39m]:\n\u001B[32m--> \u001B[39m\u001B[32m180\u001B[39m     waves = \u001B[43m_dwt_ecg_delineator\u001B[49m\u001B[43m(\u001B[49m\u001B[43mecg_cleaned\u001B[49m\u001B[43m,\u001B[49m\u001B[43m \u001B[49m\u001B[43mrpeaks\u001B[49m\u001B[43m,\u001B[49m\u001B[43m \u001B[49m\u001B[43msampling_rate\u001B[49m\u001B[43m=\u001B[49m\u001B[43msampling_rate\u001B[49m\u001B[43m)\u001B[49m\n\u001B[32m    181\u001B[39m \u001B[38;5;28;01melif\u001B[39;00m method \u001B[38;5;129;01min\u001B[39;00m [\u001B[33m\"\u001B[39m\u001B[33mprominence\u001B[39m\u001B[33m\"\u001B[39m, \u001B[33m\"\u001B[39m\u001B[33mpeak-prominence\u001B[39m\u001B[33m\"\u001B[39m, \u001B[33m\"\u001B[39m\u001B[33memrich\u001B[39m\u001B[33m\"\u001B[39m, \u001B[33m\"\u001B[39m\u001B[33memrich2024\u001B[39m\u001B[33m\"\u001B[39m]:\n\u001B[32m    182\u001B[39m     waves = _prominence_ecg_delineator(ecg_cleaned, rpeaks=rpeaks, sampling_rate=sampling_rate, **kwargs)\n",
      "\u001B[36mFile \u001B[39m\u001B[32m~/PycharmProjects/fuzzy_classifier/venv/py/a/c/d/e/dd/lib/python3.11/site-packages/neurokit2/ecg/ecg_delineate.py:288\u001B[39m, in \u001B[36m_dwt_ecg_delineator\u001B[39m\u001B[34m(ecg, rpeaks, sampling_rate, analysis_sampling_rate)\u001B[39m\n\u001B[32m    284\u001B[39m \u001B[38;5;66;03m# dwt to delineate tp waves, onsets, offsets and qrs ontsets and offsets\u001B[39;00m\n\u001B[32m    285\u001B[39m ecg = signal_resample(\n\u001B[32m    286\u001B[39m     ecg, sampling_rate=sampling_rate, desired_sampling_rate=analysis_sampling_rate\n\u001B[32m    287\u001B[39m )\n\u001B[32m--> \u001B[39m\u001B[32m288\u001B[39m dwtmatr = \u001B[43m_dwt_compute_multiscales\u001B[49m\u001B[43m(\u001B[49m\u001B[43mecg\u001B[49m\u001B[43m,\u001B[49m\u001B[43m \u001B[49m\u001B[32;43m9\u001B[39;49m\u001B[43m)\u001B[49m\n\u001B[32m    290\u001B[39m \u001B[38;5;66;03m# # only for debugging\u001B[39;00m\n\u001B[32m    291\u001B[39m \u001B[38;5;66;03m# for idx in [0, 1, 2, 3]:\u001B[39;00m\n\u001B[32m    292\u001B[39m \u001B[38;5;66;03m#     plt.plot(dwtmatr[idx + 3], label=f'W[{idx}]')\u001B[39;00m\n\u001B[32m   (...)\u001B[39m\u001B[32m    295\u001B[39m \u001B[38;5;66;03m# plt.grid(True)\u001B[39;00m\n\u001B[32m    296\u001B[39m \u001B[38;5;66;03m# plt.show()\u001B[39;00m\n\u001B[32m    297\u001B[39m rpeaks_resampled = _dwt_resample_points(\n\u001B[32m    298\u001B[39m     rpeaks, sampling_rate, analysis_sampling_rate\n\u001B[32m    299\u001B[39m )\n",
      "\u001B[36mFile \u001B[39m\u001B[32m~/PycharmProjects/fuzzy_classifier/venv/py/a/c/d/e/dd/lib/python3.11/site-packages/neurokit2/ecg/ecg_delineate.py:695\u001B[39m, in \u001B[36m_dwt_compute_multiscales\u001B[39m\u001B[34m(ecg, max_degree)\u001B[39m\n\u001B[32m    693\u001B[39m intermediate_ret = np.array(ecg)\n\u001B[32m    694\u001B[39m \u001B[38;5;28;01mfor\u001B[39;00m deg \u001B[38;5;129;01min\u001B[39;00m \u001B[38;5;28mrange\u001B[39m(max_degree):\n\u001B[32m--> \u001B[39m\u001B[32m695\u001B[39m     S_deg = \u001B[43m_apply_G_filter\u001B[49m\u001B[43m(\u001B[49m\u001B[43mintermediate_ret\u001B[49m\u001B[43m,\u001B[49m\u001B[43m \u001B[49m\u001B[43mpower\u001B[49m\u001B[43m=\u001B[49m\u001B[43mdeg\u001B[49m\u001B[43m)\u001B[49m\n\u001B[32m    696\u001B[39m     T_deg = _apply_H_filter(intermediate_ret, power=deg)\n\u001B[32m    697\u001B[39m     dwtmatr.append(S_deg)\n",
      "\u001B[36mFile \u001B[39m\u001B[32m~/PycharmProjects/fuzzy_classifier/venv/py/a/c/d/e/dd/lib/python3.11/site-packages/neurokit2/ecg/ecg_delineate.py:688\u001B[39m, in \u001B[36m_dwt_compute_multiscales.<locals>._apply_G_filter\u001B[39m\u001B[34m(signal_i, power)\u001B[39m\n\u001B[32m    686\u001B[39m timedelay = \u001B[32m2\u001B[39m**power\n\u001B[32m    687\u001B[39m banks = np.r_[\u001B[32m2\u001B[39m, zeros, -\u001B[32m2\u001B[39m]\n\u001B[32m--> \u001B[39m\u001B[32m688\u001B[39m signal_f = \u001B[43mscipy\u001B[49m\u001B[43m.\u001B[49m\u001B[43msignal\u001B[49m\u001B[43m.\u001B[49m\u001B[43mconvolve\u001B[49m\u001B[43m(\u001B[49m\u001B[43msignal_i\u001B[49m\u001B[43m,\u001B[49m\u001B[43m \u001B[49m\u001B[43mbanks\u001B[49m\u001B[43m,\u001B[49m\u001B[43m \u001B[49m\u001B[43mmode\u001B[49m\u001B[43m=\u001B[49m\u001B[33;43m\"\u001B[39;49m\u001B[33;43mfull\u001B[39;49m\u001B[33;43m\"\u001B[39;49m\u001B[43m)\u001B[49m\n\u001B[32m    689\u001B[39m signal_f[:-timedelay] = signal_f[timedelay:]  \u001B[38;5;66;03m# timeshift: 1 step\u001B[39;00m\n\u001B[32m    690\u001B[39m \u001B[38;5;28;01mreturn\u001B[39;00m signal_f\n",
      "\u001B[36mFile \u001B[39m\u001B[32m~/PycharmProjects/fuzzy_classifier/venv/py/a/c/d/e/dd/lib/python3.11/site-packages/scipy/signal/_signaltools.py:1460\u001B[39m, in \u001B[36mconvolve\u001B[39m\u001B[34m(in1, in2, mode, method)\u001B[39m\n\u001B[32m   1457\u001B[39m \u001B[38;5;28;01melif\u001B[39;00m method == \u001B[33m'\u001B[39m\u001B[33mdirect\u001B[39m\u001B[33m'\u001B[39m:\n\u001B[32m   1458\u001B[39m     \u001B[38;5;66;03m# fastpath to faster numpy.convolve for 1d inputs when possible\u001B[39;00m\n\u001B[32m   1459\u001B[39m     \u001B[38;5;28;01mif\u001B[39;00m _np_conv_ok(volume, kernel, mode):\n\u001B[32m-> \u001B[39m\u001B[32m1460\u001B[39m         \u001B[38;5;28;01mreturn\u001B[39;00m \u001B[43mnp\u001B[49m\u001B[43m.\u001B[49m\u001B[43mconvolve\u001B[49m\u001B[43m(\u001B[49m\u001B[43mvolume\u001B[49m\u001B[43m,\u001B[49m\u001B[43m \u001B[49m\u001B[43mkernel\u001B[49m\u001B[43m,\u001B[49m\u001B[43m \u001B[49m\u001B[43mmode\u001B[49m\u001B[43m)\u001B[49m\n\u001B[32m   1462\u001B[39m     \u001B[38;5;28;01mreturn\u001B[39;00m correlate(volume, _reverse_and_conj(kernel), mode, \u001B[33m'\u001B[39m\u001B[33mdirect\u001B[39m\u001B[33m'\u001B[39m)\n\u001B[32m   1463\u001B[39m \u001B[38;5;28;01melse\u001B[39;00m:\n",
      "\u001B[36mFile \u001B[39m\u001B[32m~/PycharmProjects/fuzzy_classifier/venv/py/a/c/d/e/dd/lib/python3.11/site-packages/numpy/_core/numeric.py:869\u001B[39m, in \u001B[36mconvolve\u001B[39m\u001B[34m(a, v, mode)\u001B[39m\n\u001B[32m    867\u001B[39m \u001B[38;5;28;01mif\u001B[39;00m \u001B[38;5;28mlen\u001B[39m(v) == \u001B[32m0\u001B[39m:\n\u001B[32m    868\u001B[39m     \u001B[38;5;28;01mraise\u001B[39;00m \u001B[38;5;167;01mValueError\u001B[39;00m(\u001B[33m'\u001B[39m\u001B[33mv cannot be empty\u001B[39m\u001B[33m'\u001B[39m)\n\u001B[32m--> \u001B[39m\u001B[32m869\u001B[39m \u001B[38;5;28;01mreturn\u001B[39;00m multiarray.correlate(a, v[::-\u001B[32m1\u001B[39m], mode)\n",
      "\u001B[31mKeyboardInterrupt\u001B[39m: "
     ]
    }
   ],
   "source": [
    "# ------------------------------------------------------------------\n",
    "# 1. Malý tréningný set + výpočet MF\n",
    "# ------------------------------------------------------------------\n",
    "rec_ids = [\"101\", \"106\", \"108\"]          # rýchle 3 záznamy DS-1\n",
    "X, feats = build_small_matrix(rec_ids)\n",
    "mf_dict = auto_mf(X, feats)\n",
    "\n",
    "# Zoznam čŕt, ktoré chceme vizualizovať (ľubovoľne skráť/rozšír)\n",
    "core_feats = [\n",
    "    \"QRSd_ms\", \"r_amp\", \"RR_s\", \"RR1_s\", \"HR_bpm\",\n",
    "    \"early_P\", \"t_pol\", \"E_L3\", \"E_L4\"\n",
    "]\n",
    "\n",
    "# ------------------------------------------------------------------\n",
    "# 2. Kreslenie – jeden obrázok na črtu\n",
    "# ------------------------------------------------------------------\n",
    "out_dir = Path(\"reports/figs\")\n",
    "out_dir.mkdir(parents=True, exist_ok=True)\n",
    "core_feats = [\"QRSd_ms\",\"r_amp\",\"RR_s\",\"RR1_s\",\"HR_bpm\",\n",
    "              \"early_P\",\"t_pol\",\"E_L3\",\"E_L4\"]\n",
    "for col in core_feats:\n",
    "    if col not in mf_dict:\n",
    "        print(f\"⚠️  {col} sa vo feature-matice nenašlo, preskakujem.\")\n",
    "        continue\n",
    "\n",
    "    idx = feats.index(col)\n",
    "    vals = X[:, idx]\n",
    "    vals = vals[np.isfinite(vals)]       # vyhoď NaN/inf\n",
    "\n",
    "    if len(vals) == 0:\n",
    "        continue\n",
    "\n",
    "    plt.figure(figsize=(4, 3))\n",
    "\n",
    "    # ---------------- Histogram / KDE dát -------------------------\n",
    "    if col in {\"early_P\", \"has_P\", \"has_T\", \"qrs_pol\", \"t_pol\"}:\n",
    "        # binárne / polarity – stĺpcový diagram\n",
    "        uniq, counts = np.unique(vals, return_counts=True)\n",
    "        plt.bar(uniq, counts / counts.sum(), width=0.2, alpha=0.5,\n",
    "                label=\"data hist\")\n",
    "        plt.xticks(uniq)\n",
    "    else:\n",
    "        sns.histplot(vals, bins=40, stat=\"density\", color=\"skyblue\",\n",
    "             alpha=0.4, label=\"hist\")\n",
    "\n",
    "\n",
    "    # ---------------- Gauss MF (alebo crisp) ----------------------\n",
    "    xs_raw = np.linspace(np.nanmin(vals), np.nanmax(vals), 300)\n",
    "\n",
    "    is_log = col.startswith(\"E_L\") or col == \"ratio_L2_L3\"\n",
    "    xs = np.log10(xs_raw + 1e-6) if is_log else xs_raw\n",
    "\n",
    "    for lbl, (mu, sigma) in mf_dict[col].items():\n",
    "        ys = _gauss(mu, sigma, xs)\n",
    "        plt.plot(xs_raw, ys, label=lbl)   # xs_raw pre čitateľnú os\n",
    "\n",
    "    # ---------------- Titles & ukladanie --------------------------\n",
    "    plt.title(col)\n",
    "    plt.legend(loc=\"upper right\", fontsize=8)\n",
    "    plt.tight_layout()\n",
    "    plt.savefig(out_dir / f\"{col}.png\", dpi=150)\n",
    "    plt.close()\n",
    "\n",
    "print(\"✅ Grafy uložené do\", out_dir.resolve())"
   ],
   "metadata": {
    "collapsed": false,
    "ExecuteTime": {
     "end_time": "2025-06-08T11:57:45.549143Z",
     "start_time": "2025-06-08T11:57:41.689393Z"
    }
   }
  },
  {
   "cell_type": "code",
   "execution_count": 1,
   "outputs": [
    {
     "name": "stdout",
     "output_type": "stream",
     "text": [
      "som tu \n",
      "filter done\n",
      "detect kdasdjbashjdasd \n",
      "detect kdasdjasdasdasdasdasdabashjdasd \n",
      "som tu \n",
      "filter done\n",
      "som tu \n",
      "filter done\n",
      "detect kdasdjbashjdasd \n",
      "detect kdasdjasdasdasdasdasdabashjdasd \n",
      "som tu \n",
      "filter done\n",
      "som tu \n",
      "filter done\n",
      "detect kdasdjbashjdasd \n",
      "detect kdasdjasdasdasdasdasdabashjdasd \n",
      "som tu \n",
      "filter done\n",
      "som tu \n",
      "filter done\n",
      "detect kdasdjbashjdasd \n",
      "detect kdasdjasdasdasdasdasdabashjdasd \n",
      "som tu \n",
      "filter done\n"
     ]
    },
    {
     "data": {
      "text/plain": "interactive(children=(Dropdown(description='Feature:', options=('QRSd_ms', 'r_amp', 'RR_s', 'RR1_s', 'HR_bpm',…",
      "application/vnd.jupyter.widget-view+json": {
       "version_major": 2,
       "version_minor": 0,
       "model_id": "84935198f6e04fa08dc71c4a9bf3e2a8"
      }
     },
     "metadata": {},
     "output_type": "display_data"
    },
    {
     "data": {
      "text/plain": "<function __main__.plot_mf(feature)>"
     },
     "execution_count": 1,
     "metadata": {},
     "output_type": "execute_result"
    }
   ],
   "source": [
    "import matplotlib\n",
    "matplotlib.use(\"module://matplotlib_inline.backend_inline\")   # inline\n",
    "# alebo: matplotlib.use(\"Qt5Agg\")  # klasické okno\n",
    "         # alebo %matplotlib widget v Jupyter Lab\n",
    "\n",
    "import numpy as np, seaborn as sns, matplotlib.pyplot as plt\n",
    "import ipywidgets as widgets\n",
    "from pathlib import Path\n",
    "\n",
    "# --- dáta & MF ---------------------------------------------------\n",
    "from src.feature_extraction.transformer import FeatureExtractor\n",
    "from src.preprocessing.load import load_record\n",
    "from src.fuzzy.mf import auto_mf\n",
    "\n",
    "ids = [\"101\",\"106\",\"108\"]\n",
    "rows = [(load_record(r).signal, 360) for r in ids]\n",
    "\n",
    "fe = FeatureExtractor(return_array=False)\n",
    "fe.fit(rows)\n",
    "X_df = fe.transform(rows)\n",
    "X = X_df.to_numpy(float)\n",
    "feats = fe.feature_names_\n",
    "mf_dict = auto_mf(X, feats)\n",
    "\n",
    "core_feats = [\"QRSd_ms\",\"r_amp\",\"RR_s\",\"RR1_s\",\"HR_bpm\",\n",
    "              \"early_P\",\"t_pol\",\"E_L3\",\"E_L4\"]\n",
    "\n",
    "# --- interaktívny graf ------------------------------------------\n",
    "dropdown = widgets.Dropdown(options=core_feats, description=\"Feature:\")\n",
    "\n",
    "def plot_mf(feature):\n",
    "    plt.figure(figsize=(5,3))\n",
    "    idx = feats.index(feature)\n",
    "    vals = X[:, idx]; vals = vals[np.isfinite(vals)]\n",
    "\n",
    "    if feature in {\"early_P\",\"has_P\",\"has_T\",\"qrs_pol\",\"t_pol\"}:\n",
    "        uniq, cnt = np.unique(vals, return_counts=True)\n",
    "        sns.barplot(x=uniq, y=cnt/cnt.sum(), palette=\"pastel\", alpha=0.4)\n",
    "        plt.xticks(uniq)\n",
    "    else:\n",
    "        sns.histplot(vals, bins=40, stat=\"density\", alpha=0.35)\n",
    "\n",
    "    xs_raw = np.linspace(np.nanmin(vals), np.nanmax(vals), 300)\n",
    "    is_log  = feature.startswith(\"E_L\") or feature == \"ratio_L2_L3\"\n",
    "    xs = np.log10(xs_raw+1e-6) if is_log else xs_raw\n",
    "\n",
    "    for lbl,(mu,sigma) in mf_dict[feature].items():\n",
    "        plt.plot(xs_raw, np.exp(-0.5*((xs-mu)/sigma)**2), label=lbl)\n",
    "\n",
    "    plt.title(feature); plt.legend(fontsize=8); plt.tight_layout()\n",
    "    plt.show()\n",
    "\n",
    "widgets.interact(plot_mf, feature=dropdown)"
   ],
   "metadata": {
    "collapsed": false,
    "ExecuteTime": {
     "end_time": "2025-06-09T03:55:28.217418Z",
     "start_time": "2025-06-09T03:55:06.951578Z"
    }
   }
  },
  {
   "cell_type": "code",
   "execution_count": null,
   "outputs": [],
   "source": [],
   "metadata": {
    "collapsed": false
   }
  }
 ],
 "metadata": {
  "kernelspec": {
   "display_name": "Python 3",
   "language": "python",
   "name": "python3"
  },
  "language_info": {
   "codemirror_mode": {
    "name": "ipython",
    "version": 2
   },
   "file_extension": ".py",
   "mimetype": "text/x-python",
   "name": "python",
   "nbconvert_exporter": "python",
   "pygments_lexer": "ipython2",
   "version": "2.7.6"
  }
 },
 "nbformat": 4,
 "nbformat_minor": 0
}
